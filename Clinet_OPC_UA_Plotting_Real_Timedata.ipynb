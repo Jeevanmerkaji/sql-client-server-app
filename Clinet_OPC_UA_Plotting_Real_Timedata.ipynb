{
  "nbformat": 4,
  "nbformat_minor": 0,
  "metadata": {
    "colab": {
      "provenance": [],
      "authorship_tag": "ABX9TyPGZBffLtbWJuYlY6eT1Zgs"
    },
    "kernelspec": {
      "name": "python3",
      "display_name": "Python 3"
    },
    "language_info": {
      "name": "python"
    }
  },
  "cells": [
    {
      "cell_type": "code",
      "execution_count": null,
      "metadata": {
        "id": "0eySB_9Fq0bL"
      },
      "outputs": [],
      "source": []
    },
    {
      "cell_type": "code",
      "source": [
        "import time\n",
        "import matplotlib.pyplot as plt\n",
        "import matplotlib.animation as animation\n",
        "from opcua import Client\n",
        "\n",
        "# Connect to OPC UA Server\n",
        "client = Client(\"opc.tcp://127.0.0.1:12345\")\n",
        "client.connect()\n",
        "print(\"Connected to OPC UA Server\")\n",
        "\n",
        "# Get the Namespace Index\n",
        "idx = client.get_namespace_index(\"Room1\")\n",
        "\n",
        "\n",
        "room_temperature = client.get_node(f\"ns={idx};i=1\")\n",
        "print(\"Room Temperature Node:\", room_temperature)\n",
        "\n",
        "# Lists to store time and temperature values\n",
        "timestamps = []\n",
        "temperatures = []\n",
        "\n",
        "# Initialize Plot\n",
        "fig, ax = plt.subplots()\n",
        "line, = ax.plot([], [], 'r-', label=\"Temperature (°C)\")\n",
        "ax.set_xlabel(\"Time (s)\")\n",
        "ax.set_ylabel(\"Temperature (°C)\")\n",
        "ax.set_title(\"Live Room Temperature Data\")\n",
        "ax.legend()\n",
        "\n",
        "# **Update Function for Animation**\n",
        "def update(frame):\n",
        "    temp = room_temperature.get_value()  # Read the latest value\n",
        "    timestamps.append(time.time())  # Get current timestamp\n",
        "    temperatures.append(temp)  # Store temperature value\n",
        "\n",
        "    # Keep only last 50 points for better visualization\n",
        "    if len(timestamps) > 50:\n",
        "        timestamps.pop(0)\n",
        "        temperatures.pop(0)\n",
        "\n",
        "    # Update the plot\n",
        "    line.set_data(timestamps, temperatures)\n",
        "    ax.relim()\n",
        "    ax.autoscale_view()\n",
        "    return line,\n",
        "\n",
        "# **Use Matplotlib Animation for Real-time Updates and here the temperature is updated for every 2 sec **\n",
        "ani = animation.FuncAnimation(fig, update, interval=2000)\n",
        "\n",
        "plt.show()\n",
        "\n",
        "# Disconnect Client on Exit\n",
        "client.disconnect()"
      ],
      "metadata": {
        "id": "rms0j5ftrvqO"
      },
      "execution_count": null,
      "outputs": []
    }
  ]
}